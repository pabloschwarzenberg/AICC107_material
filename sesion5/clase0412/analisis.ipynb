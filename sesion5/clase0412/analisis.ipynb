{
 "cells": [
  {
   "cell_type": "code",
   "execution_count": 73,
   "metadata": {},
   "outputs": [],
   "source": [
    "import pandas as pd\n",
    "import matplotlib.pyplot as plt\n",
    "import numpy as np"
   ]
  },
  {
   "cell_type": "code",
   "execution_count": 74,
   "metadata": {},
   "outputs": [],
   "source": [
    "df=pd.read_csv(\"dolar.csv\",sep=\";\")"
   ]
  },
  {
   "cell_type": "code",
   "execution_count": 75,
   "metadata": {},
   "outputs": [],
   "source": [
    "valores=df[\"valor\"].to_numpy()"
   ]
  },
  {
   "cell_type": "code",
   "execution_count": 76,
   "metadata": {},
   "outputs": [],
   "source": [
    "from statsmodels.graphics.tsaplots import plot_acf,plot_pacf"
   ]
  },
  {
   "cell_type": "code",
   "execution_count": 77,
   "metadata": {},
   "outputs": [
    {
     "data": {
      "image/png": "[encoded data removed]",
      "text/plain": [
       "<Figure size 1000x500 with 2 Axes>"
      ]
     },
     "metadata": {},
     "output_type": "display_data"
    }
   ],
   "source": [
    "fig, axes=plt.subplots(1,2)\n",
    "fig.set_size_inches(10,5)\n",
    "plot_acf(valores,lags=15,ax=axes[0]);\n",
    "plot_pacf(valores,lags=5,ax=axes[1]);"
   ]
  },
  {
   "cell_type": "code",
   "execution_count": 78,
   "metadata": {},
   "outputs": [],
   "source": [
    "from statsmodels.tsa.arima.model import ARIMA"
   ]
  },
  {
   "cell_type": "code",
   "execution_count": 79,
   "metadata": {},
   "outputs": [
    {
     "name": "stdout",
     "output_type": "stream",
     "text": [
      "MSE 77.89535406536697\n"
     ]
    },
    {
     "data": {
      "text/html": [
       "<table class=\"simpletable\">\n",
       "<caption>SARIMAX Results</caption>\n",
       "<tr>\n",
       "  <th>Dep. Variable:</th>           <td>y</td>        <th>  No. Observations:  </th>    <td>744</td>   \n",
       "</tr>\n",
       "<tr>\n",
       "  <th>Model:</th>            <td>ARIMA(1, 0, 5)</td>  <th>  Log Likelihood     </th> <td>-2588.099</td>\n",
       "</tr>\n",
       "<tr>\n",
       "  <th>Date:</th>            <td>Wed, 04 Dec 2024</td> <th>  AIC                </th> <td>5192.198</td> \n",
       "</tr>\n",
       "<tr>\n",
       "  <th>Time:</th>                <td>22:02:19</td>     <th>  BIC                </th> <td>5229.094</td> \n",
       "</tr>\n",
       "<tr>\n",
       "  <th>Sample:</th>                  <td>0</td>        <th>  HQIC               </th> <td>5206.420</td> \n",
       "</tr>\n",
       "<tr>\n",
       "  <th></th>                      <td> - 744</td>      <th>                     </th>     <td> </td>    \n",
       "</tr>\n",
       "<tr>\n",
       "  <th>Covariance Type:</th>        <td>opg</td>       <th>                     </th>     <td> </td>    \n",
       "</tr>\n",
       "</table>\n",
       "<table class=\"simpletable\">\n",
       "<tr>\n",
       "     <td></td>       <th>coef</th>     <th>std err</th>      <th>z</th>      <th>P>|z|</th>  <th>[0.025</th>    <th>0.975]</th>  \n",
       "</tr>\n",
       "<tr>\n",
       "  <th>const</th>  <td>  823.2115</td> <td>   32.374</td> <td>   25.428</td> <td> 0.000</td> <td>  759.760</td> <td>  886.663</td>\n",
       "</tr>\n",
       "<tr>\n",
       "  <th>ar.L1</th>  <td>    0.9922</td> <td>    0.004</td> <td>  231.183</td> <td> 0.000</td> <td>    0.984</td> <td>    1.001</td>\n",
       "</tr>\n",
       "<tr>\n",
       "  <th>ma.L1</th>  <td>    0.2303</td> <td>    0.022</td> <td>   10.267</td> <td> 0.000</td> <td>    0.186</td> <td>    0.274</td>\n",
       "</tr>\n",
       "<tr>\n",
       "  <th>ma.L2</th>  <td>   -0.0334</td> <td>    0.036</td> <td>   -0.919</td> <td> 0.358</td> <td>   -0.105</td> <td>    0.038</td>\n",
       "</tr>\n",
       "<tr>\n",
       "  <th>ma.L3</th>  <td>   -0.0299</td> <td>    0.034</td> <td>   -0.876</td> <td> 0.381</td> <td>   -0.097</td> <td>    0.037</td>\n",
       "</tr>\n",
       "<tr>\n",
       "  <th>ma.L4</th>  <td>   -0.0015</td> <td>    0.032</td> <td>   -0.046</td> <td> 0.963</td> <td>   -0.064</td> <td>    0.062</td>\n",
       "</tr>\n",
       "<tr>\n",
       "  <th>ma.L5</th>  <td>   -0.0134</td> <td>    0.035</td> <td>   -0.378</td> <td> 0.705</td> <td>   -0.083</td> <td>    0.056</td>\n",
       "</tr>\n",
       "<tr>\n",
       "  <th>sigma2</th> <td>   61.1600</td> <td>    2.082</td> <td>   29.372</td> <td> 0.000</td> <td>   57.079</td> <td>   65.241</td>\n",
       "</tr>\n",
       "</table>\n",
       "<table class=\"simpletable\">\n",
       "<tr>\n",
       "  <th>Ljung-Box (L1) (Q):</th>     <td>0.00</td> <th>  Jarque-Bera (JB):  </th> <td>938.82</td>\n",
       "</tr>\n",
       "<tr>\n",
       "  <th>Prob(Q):</th>                <td>0.98</td> <th>  Prob(JB):          </th>  <td>0.00</td> \n",
       "</tr>\n",
       "<tr>\n",
       "  <th>Heteroskedasticity (H):</th> <td>1.39</td> <th>  Skew:              </th>  <td>-0.27</td>\n",
       "</tr>\n",
       "<tr>\n",
       "  <th>Prob(H) (two-sided):</th>    <td>0.01</td> <th>  Kurtosis:          </th>  <td>8.48</td> \n",
       "</tr>\n",
       "</table><br/><br/>Warnings:<br/>[1] Covariance matrix calculated using the outer product of gradients (complex-step)."
      ],
      "text/latex": [
       "\\begin{center}\n",
       "\\begin{tabular}{lclc}\n",
       "\\toprule\n",
       "\\textbf{Dep. Variable:}          &        y         & \\textbf{  No. Observations:  } &    744      \\\\\n",
       "\\textbf{Model:}                  &  ARIMA(1, 0, 5)  & \\textbf{  Log Likelihood     } & -2588.099   \\\\\n",
       "\\textbf{Date:}                   & Wed, 04 Dec 2024 & \\textbf{  AIC                } &  5192.198   \\\\\n",
       "\\textbf{Time:}                   &     22:02:19     & \\textbf{  BIC                } &  5229.094   \\\\\n",
       "\\textbf{Sample:}                 &        0         & \\textbf{  HQIC               } &  5206.420   \\\\\n",
       "\\textbf{}                        &       - 744      & \\textbf{                     } &             \\\\\n",
       "\\textbf{Covariance Type:}        &       opg        & \\textbf{                     } &             \\\\\n",
       "\\bottomrule\n",
       "\\end{tabular}\n",
       "\\begin{tabular}{lcccccc}\n",
       "                & \\textbf{coef} & \\textbf{std err} & \\textbf{z} & \\textbf{P$> |$z$|$} & \\textbf{[0.025} & \\textbf{0.975]}  \\\\\n",
       "\\midrule\n",
       "\\textbf{const}  &     823.2115  &       32.374     &    25.428  &         0.000        &      759.760    &      886.663     \\\\\n",
       "\\textbf{ar.L1}  &       0.9922  &        0.004     &   231.183  &         0.000        &        0.984    &        1.001     \\\\\n",
       "\\textbf{ma.L1}  &       0.2303  &        0.022     &    10.267  &         0.000        &        0.186    &        0.274     \\\\\n",
       "\\textbf{ma.L2}  &      -0.0334  &        0.036     &    -0.919  &         0.358        &       -0.105    &        0.038     \\\\\n",
       "\\textbf{ma.L3}  &      -0.0299  &        0.034     &    -0.876  &         0.381        &       -0.097    &        0.037     \\\\\n",
       "\\textbf{ma.L4}  &      -0.0015  &        0.032     &    -0.046  &         0.963        &       -0.064    &        0.062     \\\\\n",
       "\\textbf{ma.L5}  &      -0.0134  &        0.035     &    -0.378  &         0.705        &       -0.083    &        0.056     \\\\\n",
       "\\textbf{sigma2} &      61.1600  &        2.082     &    29.372  &         0.000        &       57.079    &       65.241     \\\\\n",
       "\\bottomrule\n",
       "\\end{tabular}\n",
       "\\begin{tabular}{lclc}\n",
       "\\textbf{Ljung-Box (L1) (Q):}     & 0.00 & \\textbf{  Jarque-Bera (JB):  } & 938.82  \\\\\n",
       "\\textbf{Prob(Q):}                & 0.98 & \\textbf{  Prob(JB):          } &  0.00   \\\\\n",
       "\\textbf{Heteroskedasticity (H):} & 1.39 & \\textbf{  Skew:              } & -0.27   \\\\\n",
       "\\textbf{Prob(H) (two-sided):}    & 0.01 & \\textbf{  Kurtosis:          } &  8.48   \\\\\n",
       "\\bottomrule\n",
       "\\end{tabular}\n",
       "%\\caption{SARIMAX Results}\n",
       "\\end{center}\n",
       "\n",
       "Warnings: \\newline\n",
       " [1] Covariance matrix calculated using the outer product of gradients (complex-step)."
      ],
      "text/plain": [
       "<class 'statsmodels.iolib.summary.Summary'>\n",
       "\"\"\"\n",
       "                               SARIMAX Results                                \n",
       "==============================================================================\n",
       "Dep. Variable:                      y   No. Observations:                  744\n",
       "Model:                 ARIMA(1, 0, 5)   Log Likelihood               -2588.099\n",
       "Date:                Wed, 04 Dec 2024   AIC                           5192.198\n",
       "Time:                        22:02:19   BIC                           5229.094\n",
       "Sample:                             0   HQIC                          5206.420\n",
       "                                - 744                                         \n",
       "Covariance Type:                  opg                                         \n",
       "==============================================================================\n",
       "                 coef    std err          z      P>|z|      [0.025      0.975]\n",
       "------------------------------------------------------------------------------\n",
       "const        823.2115     32.374     25.428      0.000     759.760     886.663\n",
       "ar.L1          0.9922      0.004    231.183      0.000       0.984       1.001\n",
       "ma.L1          0.2303      0.022     10.267      0.000       0.186       0.274\n",
       "ma.L2         -0.0334      0.036     -0.919      0.358      -0.105       0.038\n",
       "ma.L3         -0.0299      0.034     -0.876      0.381      -0.097       0.037\n",
       "ma.L4         -0.0015      0.032     -0.046      0.963      -0.064       0.062\n",
       "ma.L5         -0.0134      0.035     -0.378      0.705      -0.083       0.056\n",
       "sigma2        61.1600      2.082     29.372      0.000      57.079      65.241\n",
       "===================================================================================\n",
       "Ljung-Box (L1) (Q):                   0.00   Jarque-Bera (JB):               938.82\n",
       "Prob(Q):                              0.98   Prob(JB):                         0.00\n",
       "Heteroskedasticity (H):               1.39   Skew:                            -0.27\n",
       "Prob(H) (two-sided):                  0.01   Kurtosis:                         8.48\n",
       "===================================================================================\n",
       "\n",
       "Warnings:\n",
       "[1] Covariance matrix calculated using the outer product of gradients (complex-step).\n",
       "\"\"\""
      ]
     },
     "execution_count": 79,
     "metadata": {},
     "output_type": "execute_result"
    }
   ],
   "source": [
    "modelo=ARIMA(valores,order=(1,0,5))\n",
    "predictor=modelo.fit()\n",
    "print(\"MSE\",predictor.mse)\n",
    "predictor.summary()"
   ]
  },
  {
   "cell_type": "code",
   "execution_count": 80,
   "metadata": {},
   "outputs": [
    {
     "name": "stdout",
     "output_type": "stream",
     "text": [
      "MSE 76.59097991040214\n"
     ]
    },
    {
     "data": {
      "text/html": [
       "<table class=\"simpletable\">\n",
       "<caption>SARIMAX Results</caption>\n",
       "<tr>\n",
       "  <th>Dep. Variable:</th>           <td>y</td>        <th>  No. Observations:  </th>    <td>744</td>   \n",
       "</tr>\n",
       "<tr>\n",
       "  <th>Model:</th>            <td>ARIMA(1, 0, 15)</td> <th>  Log Likelihood     </th> <td>-2580.079</td>\n",
       "</tr>\n",
       "<tr>\n",
       "  <th>Date:</th>            <td>Wed, 04 Dec 2024</td> <th>  AIC                </th> <td>5196.159</td> \n",
       "</tr>\n",
       "<tr>\n",
       "  <th>Time:</th>                <td>22:02:21</td>     <th>  BIC                </th> <td>5279.175</td> \n",
       "</tr>\n",
       "<tr>\n",
       "  <th>Sample:</th>                  <td>0</td>        <th>  HQIC               </th> <td>5228.159</td> \n",
       "</tr>\n",
       "<tr>\n",
       "  <th></th>                      <td> - 744</td>      <th>                     </th>     <td> </td>    \n",
       "</tr>\n",
       "<tr>\n",
       "  <th>Covariance Type:</th>        <td>opg</td>       <th>                     </th>     <td> </td>    \n",
       "</tr>\n",
       "</table>\n",
       "<table class=\"simpletable\">\n",
       "<tr>\n",
       "     <td></td>       <th>coef</th>     <th>std err</th>      <th>z</th>      <th>P>|z|</th>  <th>[0.025</th>    <th>0.975]</th>  \n",
       "</tr>\n",
       "<tr>\n",
       "  <th>const</th>  <td>  823.1960</td> <td>   35.664</td> <td>   23.082</td> <td> 0.000</td> <td>  753.296</td> <td>  893.096</td>\n",
       "</tr>\n",
       "<tr>\n",
       "  <th>ar.L1</th>  <td>    0.9943</td> <td>    0.004</td> <td>  223.667</td> <td> 0.000</td> <td>    0.986</td> <td>    1.003</td>\n",
       "</tr>\n",
       "<tr>\n",
       "  <th>ma.L1</th>  <td>    0.2403</td> <td>    0.026</td> <td>    9.103</td> <td> 0.000</td> <td>    0.189</td> <td>    0.292</td>\n",
       "</tr>\n",
       "<tr>\n",
       "  <th>ma.L2</th>  <td>   -0.0314</td> <td>    0.038</td> <td>   -0.829</td> <td> 0.407</td> <td>   -0.106</td> <td>    0.043</td>\n",
       "</tr>\n",
       "<tr>\n",
       "  <th>ma.L3</th>  <td>   -0.0238</td> <td>    0.034</td> <td>   -0.706</td> <td> 0.480</td> <td>   -0.090</td> <td>    0.042</td>\n",
       "</tr>\n",
       "<tr>\n",
       "  <th>ma.L4</th>  <td>   -0.0007</td> <td>    0.033</td> <td>   -0.022</td> <td> 0.982</td> <td>   -0.065</td> <td>    0.063</td>\n",
       "</tr>\n",
       "<tr>\n",
       "  <th>ma.L5</th>  <td>   -0.0326</td> <td>    0.037</td> <td>   -0.873</td> <td> 0.383</td> <td>   -0.106</td> <td>    0.041</td>\n",
       "</tr>\n",
       "<tr>\n",
       "  <th>ma.L6</th>  <td>   -0.0625</td> <td>    0.038</td> <td>   -1.636</td> <td> 0.102</td> <td>   -0.137</td> <td>    0.012</td>\n",
       "</tr>\n",
       "<tr>\n",
       "  <th>ma.L7</th>  <td>    0.0829</td> <td>    0.032</td> <td>    2.605</td> <td> 0.009</td> <td>    0.021</td> <td>    0.145</td>\n",
       "</tr>\n",
       "<tr>\n",
       "  <th>ma.L8</th>  <td>   -0.0398</td> <td>    0.038</td> <td>   -1.058</td> <td> 0.290</td> <td>   -0.114</td> <td>    0.034</td>\n",
       "</tr>\n",
       "<tr>\n",
       "  <th>ma.L9</th>  <td>   -0.0400</td> <td>    0.035</td> <td>   -1.128</td> <td> 0.259</td> <td>   -0.110</td> <td>    0.030</td>\n",
       "</tr>\n",
       "<tr>\n",
       "  <th>ma.L10</th> <td>    0.0055</td> <td>    0.040</td> <td>    0.136</td> <td> 0.892</td> <td>   -0.074</td> <td>    0.085</td>\n",
       "</tr>\n",
       "<tr>\n",
       "  <th>ma.L11</th> <td>    0.0493</td> <td>    0.037</td> <td>    1.330</td> <td> 0.184</td> <td>   -0.023</td> <td>    0.122</td>\n",
       "</tr>\n",
       "<tr>\n",
       "  <th>ma.L12</th> <td>   -0.0234</td> <td>    0.037</td> <td>   -0.636</td> <td> 0.525</td> <td>   -0.096</td> <td>    0.049</td>\n",
       "</tr>\n",
       "<tr>\n",
       "  <th>ma.L13</th> <td>   -0.0592</td> <td>    0.037</td> <td>   -1.579</td> <td> 0.114</td> <td>   -0.133</td> <td>    0.014</td>\n",
       "</tr>\n",
       "<tr>\n",
       "  <th>ma.L14</th> <td>   -0.0294</td> <td>    0.036</td> <td>   -0.825</td> <td> 0.409</td> <td>   -0.099</td> <td>    0.040</td>\n",
       "</tr>\n",
       "<tr>\n",
       "  <th>ma.L15</th> <td>   -0.0405</td> <td>    0.037</td> <td>   -1.083</td> <td> 0.279</td> <td>   -0.114</td> <td>    0.033</td>\n",
       "</tr>\n",
       "<tr>\n",
       "  <th>sigma2</th> <td>   59.8243</td> <td>    2.242</td> <td>   26.689</td> <td> 0.000</td> <td>   55.431</td> <td>   64.218</td>\n",
       "</tr>\n",
       "</table>\n",
       "<table class=\"simpletable\">\n",
       "<tr>\n",
       "  <th>Ljung-Box (L1) (Q):</th>     <td>0.00</td> <th>  Jarque-Bera (JB):  </th> <td>1114.10</td>\n",
       "</tr>\n",
       "<tr>\n",
       "  <th>Prob(Q):</th>                <td>0.95</td> <th>  Prob(JB):          </th>  <td>0.00</td>  \n",
       "</tr>\n",
       "<tr>\n",
       "  <th>Heteroskedasticity (H):</th> <td>1.39</td> <th>  Skew:              </th>  <td>-0.31</td> \n",
       "</tr>\n",
       "<tr>\n",
       "  <th>Prob(H) (two-sided):</th>    <td>0.01</td> <th>  Kurtosis:          </th>  <td>8.96</td>  \n",
       "</tr>\n",
       "</table><br/><br/>Warnings:<br/>[1] Covariance matrix calculated using the outer product of gradients (complex-step)."
      ],
      "text/latex": [
       "\\begin{center}\n",
       "\\begin{tabular}{lclc}\n",
       "\\toprule\n",
       "\\textbf{Dep. Variable:}          &        y         & \\textbf{  No. Observations:  } &    744      \\\\\n",
       "\\textbf{Model:}                  & ARIMA(1, 0, 15)  & \\textbf{  Log Likelihood     } & -2580.079   \\\\\n",
       "\\textbf{Date:}                   & Wed, 04 Dec 2024 & \\textbf{  AIC                } &  5196.159   \\\\\n",
       "\\textbf{Time:}                   &     22:02:21     & \\textbf{  BIC                } &  5279.175   \\\\\n",
       "\\textbf{Sample:}                 &        0         & \\textbf{  HQIC               } &  5228.159   \\\\\n",
       "\\textbf{}                        &       - 744      & \\textbf{                     } &             \\\\\n",
       "\\textbf{Covariance Type:}        &       opg        & \\textbf{                     } &             \\\\\n",
       "\\bottomrule\n",
       "\\end{tabular}\n",
       "\\begin{tabular}{lcccccc}\n",
       "                & \\textbf{coef} & \\textbf{std err} & \\textbf{z} & \\textbf{P$> |$z$|$} & \\textbf{[0.025} & \\textbf{0.975]}  \\\\\n",
       "\\midrule\n",
       "\\textbf{const}  &     823.1960  &       35.664     &    23.082  &         0.000        &      753.296    &      893.096     \\\\\n",
       "\\textbf{ar.L1}  &       0.9943  &        0.004     &   223.667  &         0.000        &        0.986    &        1.003     \\\\\n",
       "\\textbf{ma.L1}  &       0.2403  &        0.026     &     9.103  &         0.000        &        0.189    &        0.292     \\\\\n",
       "\\textbf{ma.L2}  &      -0.0314  &        0.038     &    -0.829  &         0.407        &       -0.106    &        0.043     \\\\\n",
       "\\textbf{ma.L3}  &      -0.0238  &        0.034     &    -0.706  &         0.480        &       -0.090    &        0.042     \\\\\n",
       "\\textbf{ma.L4}  &      -0.0007  &        0.033     &    -0.022  &         0.982        &       -0.065    &        0.063     \\\\\n",
       "\\textbf{ma.L5}  &      -0.0326  &        0.037     &    -0.873  &         0.383        &       -0.106    &        0.041     \\\\\n",
       "\\textbf{ma.L6}  &      -0.0625  &        0.038     &    -1.636  &         0.102        &       -0.137    &        0.012     \\\\\n",
       "\\textbf{ma.L7}  &       0.0829  &        0.032     &     2.605  &         0.009        &        0.021    &        0.145     \\\\\n",
       "\\textbf{ma.L8}  &      -0.0398  &        0.038     &    -1.058  &         0.290        &       -0.114    &        0.034     \\\\\n",
       "\\textbf{ma.L9}  &      -0.0400  &        0.035     &    -1.128  &         0.259        &       -0.110    &        0.030     \\\\\n",
       "\\textbf{ma.L10} &       0.0055  &        0.040     &     0.136  &         0.892        &       -0.074    &        0.085     \\\\\n",
       "\\textbf{ma.L11} &       0.0493  &        0.037     &     1.330  &         0.184        &       -0.023    &        0.122     \\\\\n",
       "\\textbf{ma.L12} &      -0.0234  &        0.037     &    -0.636  &         0.525        &       -0.096    &        0.049     \\\\\n",
       "\\textbf{ma.L13} &      -0.0592  &        0.037     &    -1.579  &         0.114        &       -0.133    &        0.014     \\\\\n",
       "\\textbf{ma.L14} &      -0.0294  &        0.036     &    -0.825  &         0.409        &       -0.099    &        0.040     \\\\\n",
       "\\textbf{ma.L15} &      -0.0405  &        0.037     &    -1.083  &         0.279        &       -0.114    &        0.033     \\\\\n",
       "\\textbf{sigma2} &      59.8243  &        2.242     &    26.689  &         0.000        &       55.431    &       64.218     \\\\\n",
       "\\bottomrule\n",
       "\\end{tabular}\n",
       "\\begin{tabular}{lclc}\n",
       "\\textbf{Ljung-Box (L1) (Q):}     & 0.00 & \\textbf{  Jarque-Bera (JB):  } & 1114.10  \\\\\n",
       "\\textbf{Prob(Q):}                & 0.95 & \\textbf{  Prob(JB):          } &   0.00   \\\\\n",
       "\\textbf{Heteroskedasticity (H):} & 1.39 & \\textbf{  Skew:              } &  -0.31   \\\\\n",
       "\\textbf{Prob(H) (two-sided):}    & 0.01 & \\textbf{  Kurtosis:          } &   8.96   \\\\\n",
       "\\bottomrule\n",
       "\\end{tabular}\n",
       "%\\caption{SARIMAX Results}\n",
       "\\end{center}\n",
       "\n",
       "Warnings: \\newline\n",
       " [1] Covariance matrix calculated using the outer product of gradients (complex-step)."
      ],
      "text/plain": [
       "<class 'statsmodels.iolib.summary.Summary'>\n",
       "\"\"\"\n",
       "                               SARIMAX Results                                \n",
       "==============================================================================\n",
       "Dep. Variable:                      y   No. Observations:                  744\n",
       "Model:                ARIMA(1, 0, 15)   Log Likelihood               -2580.079\n",
       "Date:                Wed, 04 Dec 2024   AIC                           5196.159\n",
       "Time:                        22:02:21   BIC                           5279.175\n",
       "Sample:                             0   HQIC                          5228.159\n",
       "                                - 744                                         \n",
       "Covariance Type:                  opg                                         \n",
       "==============================================================================\n",
       "                 coef    std err          z      P>|z|      [0.025      0.975]\n",
       "------------------------------------------------------------------------------\n",
       "const        823.1960     35.664     23.082      0.000     753.296     893.096\n",
       "ar.L1          0.9943      0.004    223.667      0.000       0.986       1.003\n",
       "ma.L1          0.2403      0.026      9.103      0.000       0.189       0.292\n",
       "ma.L2         -0.0314      0.038     -0.829      0.407      -0.106       0.043\n",
       "ma.L3         -0.0238      0.034     -0.706      0.480      -0.090       0.042\n",
       "ma.L4         -0.0007      0.033     -0.022      0.982      -0.065       0.063\n",
       "ma.L5         -0.0326      0.037     -0.873      0.383      -0.106       0.041\n",
       "ma.L6         -0.0625      0.038     -1.636      0.102      -0.137       0.012\n",
       "ma.L7          0.0829      0.032      2.605      0.009       0.021       0.145\n",
       "ma.L8         -0.0398      0.038     -1.058      0.290      -0.114       0.034\n",
       "ma.L9         -0.0400      0.035     -1.128      0.259      -0.110       0.030\n",
       "ma.L10         0.0055      0.040      0.136      0.892      -0.074       0.085\n",
       "ma.L11         0.0493      0.037      1.330      0.184      -0.023       0.122\n",
       "ma.L12        -0.0234      0.037     -0.636      0.525      -0.096       0.049\n",
       "ma.L13        -0.0592      0.037     -1.579      0.114      -0.133       0.014\n",
       "ma.L14        -0.0294      0.036     -0.825      0.409      -0.099       0.040\n",
       "ma.L15        -0.0405      0.037     -1.083      0.279      -0.114       0.033\n",
       "sigma2        59.8243      2.242     26.689      0.000      55.431      64.218\n",
       "===================================================================================\n",
       "Ljung-Box (L1) (Q):                   0.00   Jarque-Bera (JB):              1114.10\n",
       "Prob(Q):                              0.95   Prob(JB):                         0.00\n",
       "Heteroskedasticity (H):               1.39   Skew:                            -0.31\n",
       "Prob(H) (two-sided):                  0.01   Kurtosis:                         8.96\n",
       "===================================================================================\n",
       "\n",
       "Warnings:\n",
       "[1] Covariance matrix calculated using the outer product of gradients (complex-step).\n",
       "\"\"\""
      ]
     },
     "execution_count": 80,
     "metadata": {},
     "output_type": "execute_result"
    }
   ],
   "source": [
    "modelo=ARIMA(valores,order=(1,0,15))\n",
    "predictor=modelo.fit()\n",
    "print(\"MSE\",predictor.mse)\n",
    "predictor.summary()"
   ]
  },
  {
   "cell_type": "code",
   "execution_count": 81,
   "metadata": {},
   "outputs": [
    {
     "name": "stdout",
     "output_type": "stream",
     "text": [
      "MSE 76.5030442476646\n"
     ]
    },
    {
     "data": {
      "text/html": [
       "<table class=\"simpletable\">\n",
       "<caption>SARIMAX Results</caption>\n",
       "<tr>\n",
       "  <th>Dep. Variable:</th>           <td>y</td>        <th>  No. Observations:  </th>    <td>744</td>   \n",
       "</tr>\n",
       "<tr>\n",
       "  <th>Model:</th>            <td>ARIMA(2, 0, 15)</td> <th>  Log Likelihood     </th> <td>-2579.722</td>\n",
       "</tr>\n",
       "<tr>\n",
       "  <th>Date:</th>            <td>Wed, 04 Dec 2024</td> <th>  AIC                </th> <td>5197.445</td> \n",
       "</tr>\n",
       "<tr>\n",
       "  <th>Time:</th>                <td>22:02:24</td>     <th>  BIC                </th> <td>5285.074</td> \n",
       "</tr>\n",
       "<tr>\n",
       "  <th>Sample:</th>                  <td>0</td>        <th>  HQIC               </th> <td>5231.223</td> \n",
       "</tr>\n",
       "<tr>\n",
       "  <th></th>                      <td> - 744</td>      <th>                     </th>     <td> </td>    \n",
       "</tr>\n",
       "<tr>\n",
       "  <th>Covariance Type:</th>        <td>opg</td>       <th>                     </th>     <td> </td>    \n",
       "</tr>\n",
       "</table>\n",
       "<table class=\"simpletable\">\n",
       "<tr>\n",
       "     <td></td>       <th>coef</th>     <th>std err</th>      <th>z</th>      <th>P>|z|</th>  <th>[0.025</th>    <th>0.975]</th>  \n",
       "</tr>\n",
       "<tr>\n",
       "  <th>const</th>  <td>  823.0940</td> <td>   35.517</td> <td>   23.174</td> <td> 0.000</td> <td>  753.482</td> <td>  892.707</td>\n",
       "</tr>\n",
       "<tr>\n",
       "  <th>ar.L1</th>  <td>    0.5675</td> <td>    0.600</td> <td>    0.945</td> <td> 0.344</td> <td>   -0.609</td> <td>    1.744</td>\n",
       "</tr>\n",
       "<tr>\n",
       "  <th>ar.L2</th>  <td>    0.4242</td> <td>    0.597</td> <td>    0.711</td> <td> 0.477</td> <td>   -0.745</td> <td>    1.594</td>\n",
       "</tr>\n",
       "<tr>\n",
       "  <th>ma.L1</th>  <td>    0.6659</td> <td>    0.599</td> <td>    1.111</td> <td> 0.266</td> <td>   -0.508</td> <td>    1.840</td>\n",
       "</tr>\n",
       "<tr>\n",
       "  <th>ma.L2</th>  <td>    0.0717</td> <td>    0.150</td> <td>    0.477</td> <td> 0.633</td> <td>   -0.223</td> <td>    0.367</td>\n",
       "</tr>\n",
       "<tr>\n",
       "  <th>ma.L3</th>  <td>   -0.0381</td> <td>    0.044</td> <td>   -0.867</td> <td> 0.386</td> <td>   -0.124</td> <td>    0.048</td>\n",
       "</tr>\n",
       "<tr>\n",
       "  <th>ma.L4</th>  <td>   -0.0139</td> <td>    0.041</td> <td>   -0.338</td> <td> 0.735</td> <td>   -0.095</td> <td>    0.067</td>\n",
       "</tr>\n",
       "<tr>\n",
       "  <th>ma.L5</th>  <td>   -0.0316</td> <td>    0.043</td> <td>   -0.743</td> <td> 0.457</td> <td>   -0.115</td> <td>    0.052</td>\n",
       "</tr>\n",
       "<tr>\n",
       "  <th>ma.L6</th>  <td>   -0.0736</td> <td>    0.052</td> <td>   -1.404</td> <td> 0.160</td> <td>   -0.176</td> <td>    0.029</td>\n",
       "</tr>\n",
       "<tr>\n",
       "  <th>ma.L7</th>  <td>    0.0567</td> <td>    0.056</td> <td>    1.019</td> <td> 0.308</td> <td>   -0.052</td> <td>    0.166</td>\n",
       "</tr>\n",
       "<tr>\n",
       "  <th>ma.L8</th>  <td>   -0.0046</td> <td>    0.062</td> <td>   -0.073</td> <td> 0.942</td> <td>   -0.127</td> <td>    0.118</td>\n",
       "</tr>\n",
       "<tr>\n",
       "  <th>ma.L9</th>  <td>   -0.0551</td> <td>    0.049</td> <td>   -1.133</td> <td> 0.257</td> <td>   -0.150</td> <td>    0.040</td>\n",
       "</tr>\n",
       "<tr>\n",
       "  <th>ma.L10</th> <td>   -0.0139</td> <td>    0.055</td> <td>   -0.251</td> <td> 0.802</td> <td>   -0.122</td> <td>    0.094</td>\n",
       "</tr>\n",
       "<tr>\n",
       "  <th>ma.L11</th> <td>    0.0509</td> <td>    0.043</td> <td>    1.183</td> <td> 0.237</td> <td>   -0.033</td> <td>    0.135</td>\n",
       "</tr>\n",
       "<tr>\n",
       "  <th>ma.L12</th> <td>   -0.0022</td> <td>    0.053</td> <td>   -0.042</td> <td> 0.967</td> <td>   -0.106</td> <td>    0.101</td>\n",
       "</tr>\n",
       "<tr>\n",
       "  <th>ma.L13</th> <td>   -0.0675</td> <td>    0.047</td> <td>   -1.434</td> <td> 0.152</td> <td>   -0.160</td> <td>    0.025</td>\n",
       "</tr>\n",
       "<tr>\n",
       "  <th>ma.L14</th> <td>   -0.0574</td> <td>    0.055</td> <td>   -1.035</td> <td> 0.301</td> <td>   -0.166</td> <td>    0.051</td>\n",
       "</tr>\n",
       "<tr>\n",
       "  <th>ma.L15</th> <td>   -0.0552</td> <td>    0.037</td> <td>   -1.473</td> <td> 0.141</td> <td>   -0.129</td> <td>    0.018</td>\n",
       "</tr>\n",
       "<tr>\n",
       "  <th>sigma2</th> <td>   59.7667</td> <td>    2.247</td> <td>   26.604</td> <td> 0.000</td> <td>   55.364</td> <td>   64.170</td>\n",
       "</tr>\n",
       "</table>\n",
       "<table class=\"simpletable\">\n",
       "<tr>\n",
       "  <th>Ljung-Box (L1) (Q):</th>     <td>0.00</td> <th>  Jarque-Bera (JB):  </th> <td>1110.28</td>\n",
       "</tr>\n",
       "<tr>\n",
       "  <th>Prob(Q):</th>                <td>0.97</td> <th>  Prob(JB):          </th>  <td>0.00</td>  \n",
       "</tr>\n",
       "<tr>\n",
       "  <th>Heteroskedasticity (H):</th> <td>1.39</td> <th>  Skew:              </th>  <td>-0.31</td> \n",
       "</tr>\n",
       "<tr>\n",
       "  <th>Prob(H) (two-sided):</th>    <td>0.01</td> <th>  Kurtosis:          </th>  <td>8.95</td>  \n",
       "</tr>\n",
       "</table><br/><br/>Warnings:<br/>[1] Covariance matrix calculated using the outer product of gradients (complex-step)."
      ],
      "text/latex": [
       "\\begin{center}\n",
       "\\begin{tabular}{lclc}\n",
       "\\toprule\n",
       "\\textbf{Dep. Variable:}          &        y         & \\textbf{  No. Observations:  } &    744      \\\\\n",
       "\\textbf{Model:}                  & ARIMA(2, 0, 15)  & \\textbf{  Log Likelihood     } & -2579.722   \\\\\n",
       "\\textbf{Date:}                   & Wed, 04 Dec 2024 & \\textbf{  AIC                } &  5197.445   \\\\\n",
       "\\textbf{Time:}                   &     22:02:24     & \\textbf{  BIC                } &  5285.074   \\\\\n",
       "\\textbf{Sample:}                 &        0         & \\textbf{  HQIC               } &  5231.223   \\\\\n",
       "\\textbf{}                        &       - 744      & \\textbf{                     } &             \\\\\n",
       "\\textbf{Covariance Type:}        &       opg        & \\textbf{                     } &             \\\\\n",
       "\\bottomrule\n",
       "\\end{tabular}\n",
       "\\begin{tabular}{lcccccc}\n",
       "                & \\textbf{coef} & \\textbf{std err} & \\textbf{z} & \\textbf{P$> |$z$|$} & \\textbf{[0.025} & \\textbf{0.975]}  \\\\\n",
       "\\midrule\n",
       "\\textbf{const}  &     823.0940  &       35.517     &    23.174  &         0.000        &      753.482    &      892.707     \\\\\n",
       "\\textbf{ar.L1}  &       0.5675  &        0.600     &     0.945  &         0.344        &       -0.609    &        1.744     \\\\\n",
       "\\textbf{ar.L2}  &       0.4242  &        0.597     &     0.711  &         0.477        &       -0.745    &        1.594     \\\\\n",
       "\\textbf{ma.L1}  &       0.6659  &        0.599     &     1.111  &         0.266        &       -0.508    &        1.840     \\\\\n",
       "\\textbf{ma.L2}  &       0.0717  &        0.150     &     0.477  &         0.633        &       -0.223    &        0.367     \\\\\n",
       "\\textbf{ma.L3}  &      -0.0381  &        0.044     &    -0.867  &         0.386        &       -0.124    &        0.048     \\\\\n",
       "\\textbf{ma.L4}  &      -0.0139  &        0.041     &    -0.338  &         0.735        &       -0.095    &        0.067     \\\\\n",
       "\\textbf{ma.L5}  &      -0.0316  &        0.043     &    -0.743  &         0.457        &       -0.115    &        0.052     \\\\\n",
       "\\textbf{ma.L6}  &      -0.0736  &        0.052     &    -1.404  &         0.160        &       -0.176    &        0.029     \\\\\n",
       "\\textbf{ma.L7}  &       0.0567  &        0.056     &     1.019  &         0.308        &       -0.052    &        0.166     \\\\\n",
       "\\textbf{ma.L8}  &      -0.0046  &        0.062     &    -0.073  &         0.942        &       -0.127    &        0.118     \\\\\n",
       "\\textbf{ma.L9}  &      -0.0551  &        0.049     &    -1.133  &         0.257        &       -0.150    &        0.040     \\\\\n",
       "\\textbf{ma.L10} &      -0.0139  &        0.055     &    -0.251  &         0.802        &       -0.122    &        0.094     \\\\\n",
       "\\textbf{ma.L11} &       0.0509  &        0.043     &     1.183  &         0.237        &       -0.033    &        0.135     \\\\\n",
       "\\textbf{ma.L12} &      -0.0022  &        0.053     &    -0.042  &         0.967        &       -0.106    &        0.101     \\\\\n",
       "\\textbf{ma.L13} &      -0.0675  &        0.047     &    -1.434  &         0.152        &       -0.160    &        0.025     \\\\\n",
       "\\textbf{ma.L14} &      -0.0574  &        0.055     &    -1.035  &         0.301        &       -0.166    &        0.051     \\\\\n",
       "\\textbf{ma.L15} &      -0.0552  &        0.037     &    -1.473  &         0.141        &       -0.129    &        0.018     \\\\\n",
       "\\textbf{sigma2} &      59.7667  &        2.247     &    26.604  &         0.000        &       55.364    &       64.170     \\\\\n",
       "\\bottomrule\n",
       "\\end{tabular}\n",
       "\\begin{tabular}{lclc}\n",
       "\\textbf{Ljung-Box (L1) (Q):}     & 0.00 & \\textbf{  Jarque-Bera (JB):  } & 1110.28  \\\\\n",
       "\\textbf{Prob(Q):}                & 0.97 & \\textbf{  Prob(JB):          } &   0.00   \\\\\n",
       "\\textbf{Heteroskedasticity (H):} & 1.39 & \\textbf{  Skew:              } &  -0.31   \\\\\n",
       "\\textbf{Prob(H) (two-sided):}    & 0.01 & \\textbf{  Kurtosis:          } &   8.95   \\\\\n",
       "\\bottomrule\n",
       "\\end{tabular}\n",
       "%\\caption{SARIMAX Results}\n",
       "\\end{center}\n",
       "\n",
       "Warnings: \\newline\n",
       " [1] Covariance matrix calculated using the outer product of gradients (complex-step)."
      ],
      "text/plain": [
       "<class 'statsmodels.iolib.summary.Summary'>\n",
       "\"\"\"\n",
       "                               SARIMAX Results                                \n",
       "==============================================================================\n",
       "Dep. Variable:                      y   No. Observations:                  744\n",
       "Model:                ARIMA(2, 0, 15)   Log Likelihood               -2579.722\n",
       "Date:                Wed, 04 Dec 2024   AIC                           5197.445\n",
       "Time:                        22:02:24   BIC                           5285.074\n",
       "Sample:                             0   HQIC                          5231.223\n",
       "                                - 744                                         \n",
       "Covariance Type:                  opg                                         \n",
       "==============================================================================\n",
       "                 coef    std err          z      P>|z|      [0.025      0.975]\n",
       "------------------------------------------------------------------------------\n",
       "const        823.0940     35.517     23.174      0.000     753.482     892.707\n",
       "ar.L1          0.5675      0.600      0.945      0.344      -0.609       1.744\n",
       "ar.L2          0.4242      0.597      0.711      0.477      -0.745       1.594\n",
       "ma.L1          0.6659      0.599      1.111      0.266      -0.508       1.840\n",
       "ma.L2          0.0717      0.150      0.477      0.633      -0.223       0.367\n",
       "ma.L3         -0.0381      0.044     -0.867      0.386      -0.124       0.048\n",
       "ma.L4         -0.0139      0.041     -0.338      0.735      -0.095       0.067\n",
       "ma.L5         -0.0316      0.043     -0.743      0.457      -0.115       0.052\n",
       "ma.L6         -0.0736      0.052     -1.404      0.160      -0.176       0.029\n",
       "ma.L7          0.0567      0.056      1.019      0.308      -0.052       0.166\n",
       "ma.L8         -0.0046      0.062     -0.073      0.942      -0.127       0.118\n",
       "ma.L9         -0.0551      0.049     -1.133      0.257      -0.150       0.040\n",
       "ma.L10        -0.0139      0.055     -0.251      0.802      -0.122       0.094\n",
       "ma.L11         0.0509      0.043      1.183      0.237      -0.033       0.135\n",
       "ma.L12        -0.0022      0.053     -0.042      0.967      -0.106       0.101\n",
       "ma.L13        -0.0675      0.047     -1.434      0.152      -0.160       0.025\n",
       "ma.L14        -0.0574      0.055     -1.035      0.301      -0.166       0.051\n",
       "ma.L15        -0.0552      0.037     -1.473      0.141      -0.129       0.018\n",
       "sigma2        59.7667      2.247     26.604      0.000      55.364      64.170\n",
       "===================================================================================\n",
       "Ljung-Box (L1) (Q):                   0.00   Jarque-Bera (JB):              1110.28\n",
       "Prob(Q):                              0.97   Prob(JB):                         0.00\n",
       "Heteroskedasticity (H):               1.39   Skew:                            -0.31\n",
       "Prob(H) (two-sided):                  0.01   Kurtosis:                         8.95\n",
       "===================================================================================\n",
       "\n",
       "Warnings:\n",
       "[1] Covariance matrix calculated using the outer product of gradients (complex-step).\n",
       "\"\"\""
      ]
     },
     "execution_count": 81,
     "metadata": {},
     "output_type": "execute_result"
    }
   ],
   "source": [
    "modelo=ARIMA(valores,order=(2,0,15))\n",
    "predictor=modelo.fit()\n",
    "print(\"MSE\",predictor.mse)\n",
    "predictor.summary()"
   ]
  },
  {
   "cell_type": "code",
   "execution_count": 82,
   "metadata": {},
   "outputs": [
    {
     "data": {
      "text/plain": [
       "(744,)"
      ]
     },
     "execution_count": 82,
     "metadata": {},
     "output_type": "execute_result"
    }
   ],
   "source": [
    "valores=np.asarray(valores)\n",
    "valores.shape"
   ]
  },
  {
   "cell_type": "code",
   "execution_count": 83,
   "metadata": {},
   "outputs": [],
   "source": [
    "df_train=pd.read_csv(\"dolar_train.csv\",sep=\";\")"
   ]
  },
  {
   "cell_type": "code",
   "execution_count": 84,
   "metadata": {},
   "outputs": [],
   "source": [
    "df_test=pd.read_csv(\"dolar_test.csv\",sep=\";\")"
   ]
  },
  {
   "cell_type": "code",
   "execution_count": 85,
   "metadata": {},
   "outputs": [],
   "source": [
    "valores_train=df_train[\"valor\"].to_numpy()\n",
    "valores_test=df_test[\"valor\"].to_numpy()"
   ]
  },
  {
   "cell_type": "code",
   "execution_count": 86,
   "metadata": {},
   "outputs": [
    {
     "data": {
      "image/png": "[encoded data removed]",
      "text/plain": [
       "<Figure size 1000x800 with 4 Axes>"
      ]
     },
     "metadata": {},
     "output_type": "display_data"
    }
   ],
   "source": [
    "fig, axes=plt.subplots(2,2)\n",
    "fig.set_size_inches(10,8)\n",
    "plot_acf(valores_train,lags=15,ax=axes[0][0]);\n",
    "plot_pacf(valores_train,lags=5,ax=axes[0][1]);\n",
    "plot_acf(valores_test,lags=15,ax=axes[1][0]);\n",
    "plot_pacf(valores_test,lags=5,ax=axes[1][1]);\n"
   ]
  },
  {
   "cell_type": "code",
   "execution_count": 87,
   "metadata": {},
   "outputs": [
    {
     "name": "stdout",
     "output_type": "stream",
     "text": [
      "(485, 15) (485, 1)\n"
     ]
    }
   ],
   "source": [
    "x_train=[]\n",
    "y_train=[]\n",
    "historia=15\n",
    "for i in range(len(valores_train)):\n",
    "    if(i+historia<len(valores_train)):\n",
    "        xi=[]\n",
    "        for j in range(historia):\n",
    "            xi.append(valores_train[i+j])\n",
    "        x_train.append(xi)\n",
    "        y_train.append(valores_train[i+historia])\n",
    "x_train=np.asarray(x_train)\n",
    "y_train=np.asarray(y_train).reshape(-1,1)\n",
    "print(x_train.shape,y_train.shape)"
   ]
  },
  {
   "cell_type": "code",
   "execution_count": 88,
   "metadata": {},
   "outputs": [
    {
     "name": "stdout",
     "output_type": "stream",
     "text": [
      "(229, 15) (229, 1)\n"
     ]
    }
   ],
   "source": [
    "x_test=[]\n",
    "y_test=[]\n",
    "historia=15\n",
    "for i in range(len(valores_test)):\n",
    "    if(i+historia<len(valores_test)):\n",
    "        xi=[]\n",
    "        for j in range(historia):\n",
    "            xi.append(valores_test[i+j])\n",
    "        x_test.append(xi)\n",
    "        y_test.append(valores_test[i+historia])\n",
    "x_test=np.asarray(x_test)\n",
    "y_test=np.asarray(y_test).reshape(-1,1)\n",
    "print(x_test.shape,y_test.shape)"
   ]
  },
  {
   "cell_type": "code",
   "execution_count": 89,
   "metadata": {},
   "outputs": [],
   "source": [
    "from keras.layers import Input, Dense, SimpleRNN\n",
    "from keras.models import Sequential\n",
    "from keras.optimizers import Adam\n",
    "import datetime\n",
    "import tensorflow as tf"
   ]
  },
  {
   "cell_type": "code",
   "execution_count": 90,
   "metadata": {},
   "outputs": [],
   "source": [
    "x_test_rnn=x_test.reshape(-1,15,1)\n",
    "x_train_rnn=x_train.reshape(-1,15,1)"
   ]
  },
  {
   "cell_type": "code",
   "execution_count": 91,
   "metadata": {},
   "outputs": [
    {
     "data": {
      "text/plain": [
       "array([710.95, 702.93, 702.29, 696.18, 709.99, 713.28, 718.89, 725.24,\n",
       "       739.72, 735.35, 735.06, 736.11, 733.73, 730.38, 715.56])"
      ]
     },
     "execution_count": 91,
     "metadata": {},
     "output_type": "execute_result"
    }
   ],
   "source": [
    "x_train[0,:]"
   ]
  },
  {
   "cell_type": "code",
   "execution_count": 92,
   "metadata": {},
   "outputs": [
    {
     "data": {
      "text/plain": [
       "array([[710.95],\n",
       "       [702.93],\n",
       "       [702.29],\n",
       "       [696.18],\n",
       "       [709.99],\n",
       "       [713.28],\n",
       "       [718.89],\n",
       "       [725.24],\n",
       "       [739.72],\n",
       "       [735.35],\n",
       "       [735.06],\n",
       "       [736.11],\n",
       "       [733.73],\n",
       "       [730.38],\n",
       "       [715.56]])"
      ]
     },
     "execution_count": 92,
     "metadata": {},
     "output_type": "execute_result"
    }
   ],
   "source": [
    "x_train_rnn[0,:,:]"
   ]
  },
  {
   "cell_type": "code",
   "execution_count": 93,
   "metadata": {},
   "outputs": [
    {
     "data": {
      "text/html": [
       "<pre style=\"white-space:pre;overflow-x:auto;line-height:normal;font-family:Menlo,'DejaVu Sans Mono',consolas,'Courier New',monospace\"><span style=\"font-weight: bold\">Model: \"sequential_4\"</span>\n",
       "</pre>\n"
      ],
      "text/plain": [
       "\u001b[1mModel: \"sequential_4\"\u001b[0m\n"
      ]
     },
     "metadata": {},
     "output_type": "display_data"
    },
    {
     "data": {
      "text/html": [
       "<pre style=\"white-space:pre;overflow-x:auto;line-height:normal;font-family:Menlo,'DejaVu Sans Mono',consolas,'Courier New',monospace\">┏━━━━━━━━━━━━━━━━━━━━━━━━━━━━━━━━━┳━━━━━━━━━━━━━━━━━━━━━━━━┳━━━━━━━━━━━━━━━┓\n",
       "┃<span style=\"font-weight: bold\"> Layer (type)                    </span>┃<span style=\"font-weight: bold\"> Output Shape           </span>┃<span style=\"font-weight: bold\">       Param # </span>┃\n",
       "┡━━━━━━━━━━━━━━━━━━━━━━━━━━━━━━━━━╇━━━━━━━━━━━━━━━━━━━━━━━━╇━━━━━━━━━━━━━━━┩\n",
       "│ simple_rnn_2 (<span style=\"color: #0087ff; text-decoration-color: #0087ff\">SimpleRNN</span>)        │ (<span style=\"color: #00d7ff; text-decoration-color: #00d7ff\">None</span>, <span style=\"color: #00af00; text-decoration-color: #00af00\">64</span>)             │         <span style=\"color: #00af00; text-decoration-color: #00af00\">4,224</span> │\n",
       "├─────────────────────────────────┼────────────────────────┼───────────────┤\n",
       "│ dense_6 (<span style=\"color: #0087ff; text-decoration-color: #0087ff\">Dense</span>)                 │ (<span style=\"color: #00d7ff; text-decoration-color: #00d7ff\">None</span>, <span style=\"color: #00af00; text-decoration-color: #00af00\">1</span>)              │            <span style=\"color: #00af00; text-decoration-color: #00af00\">65</span> │\n",
       "└─────────────────────────────────┴────────────────────────┴───────────────┘\n",
       "</pre>\n"
      ],
      "text/plain": [
       "┏━━━━━━━━━━━━━━━━━━━━━━━━━━━━━━━━━┳━━━━━━━━━━━━━━━━━━━━━━━━┳━━━━━━━━━━━━━━━┓\n",
       "┃\u001b[1m \u001b[0m\u001b[1mLayer (type)                   \u001b[0m\u001b[1m \u001b[0m┃\u001b[1m \u001b[0m\u001b[1mOutput Shape          \u001b[0m\u001b[1m \u001b[0m┃\u001b[1m \u001b[0m\u001b[1m      Param #\u001b[0m\u001b[1m \u001b[0m┃\n",
       "┡━━━━━━━━━━━━━━━━━━━━━━━━━━━━━━━━━╇━━━━━━━━━━━━━━━━━━━━━━━━╇━━━━━━━━━━━━━━━┩\n",
       "│ simple_rnn_2 (\u001b[38;5;33mSimpleRNN\u001b[0m)        │ (\u001b[38;5;45mNone\u001b[0m, \u001b[38;5;34m64\u001b[0m)             │         \u001b[38;5;34m4,224\u001b[0m │\n",
       "├─────────────────────────────────┼────────────────────────┼───────────────┤\n",
       "│ dense_6 (\u001b[38;5;33mDense\u001b[0m)                 │ (\u001b[38;5;45mNone\u001b[0m, \u001b[38;5;34m1\u001b[0m)              │            \u001b[38;5;34m65\u001b[0m │\n",
       "└─────────────────────────────────┴────────────────────────┴───────────────┘\n"
      ]
     },
     "metadata": {},
     "output_type": "display_data"
    },
    {
     "data": {
      "text/html": [
       "<pre style=\"white-space:pre;overflow-x:auto;line-height:normal;font-family:Menlo,'DejaVu Sans Mono',consolas,'Courier New',monospace\"><span style=\"font-weight: bold\"> Total params: </span><span style=\"color: #00af00; text-decoration-color: #00af00\">4,289</span> (16.75 KB)\n",
       "</pre>\n"
      ],
      "text/plain": [
       "\u001b[1m Total params: \u001b[0m\u001b[38;5;34m4,289\u001b[0m (16.75 KB)\n"
      ]
     },
     "metadata": {},
     "output_type": "display_data"
    },
    {
     "data": {
      "text/html": [
       "<pre style=\"white-space:pre;overflow-x:auto;line-height:normal;font-family:Menlo,'DejaVu Sans Mono',consolas,'Courier New',monospace\"><span style=\"font-weight: bold\"> Trainable params: </span><span style=\"color: #00af00; text-decoration-color: #00af00\">4,289</span> (16.75 KB)\n",
       "</pre>\n"
      ],
      "text/plain": [
       "\u001b[1m Trainable params: \u001b[0m\u001b[38;5;34m4,289\u001b[0m (16.75 KB)\n"
      ]
     },
     "metadata": {},
     "output_type": "display_data"
    },
    {
     "data": {
      "text/html": [
       "<pre style=\"white-space:pre;overflow-x:auto;line-height:normal;font-family:Menlo,'DejaVu Sans Mono',consolas,'Courier New',monospace\"><span style=\"font-weight: bold\"> Non-trainable params: </span><span style=\"color: #00af00; text-decoration-color: #00af00\">0</span> (0.00 B)\n",
       "</pre>\n"
      ],
      "text/plain": [
       "\u001b[1m Non-trainable params: \u001b[0m\u001b[38;5;34m0\u001b[0m (0.00 B)\n"
      ]
     },
     "metadata": {},
     "output_type": "display_data"
    }
   ],
   "source": [
    "modelo_recurrente=Sequential()\n",
    "modelo_recurrente.add(Input(name=\"serie\",shape=(15,1)))\n",
    "modelo_recurrente.add(SimpleRNN(64))\n",
    "modelo_recurrente.add(Dense(1,activation=\"linear\"))\n",
    "modelo_recurrente.summary()"
   ]
  },
  {
   "cell_type": "code",
   "execution_count": 94,
   "metadata": {},
   "outputs": [],
   "source": [
    "from datetime import datetime"
   ]
  },
  {
   "cell_type": "code",
   "execution_count": 95,
   "metadata": {},
   "outputs": [],
   "source": [
    "tag=\"rnn\"+datetime.now().strftime(\"%Y%m%d-%H%M%S\")\n",
    "log_dir = \"logs_t/fit/\" + tag\n",
    "tensorboard_callback = tf.keras.callbacks.TensorBoard(log_dir=log_dir, histogram_freq=1)\n",
    "optimizer=Adam(learning_rate=1e-2)"
   ]
  },
  {
   "cell_type": "code",
   "execution_count": 96,
   "metadata": {},
   "outputs": [],
   "source": [
    "modelo_recurrente.compile(optimizer=optimizer, loss='mse', metrics=['mse','mae'])"
   ]
  },
  {
   "cell_type": "code",
   "execution_count": 97,
   "metadata": {},
   "outputs": [
    {
     "name": "stdout",
     "output_type": "stream",
     "text": [
      "Epoch 1/36\n",
      "\u001b[1m485/485\u001b[0m \u001b[32m━━━━━━━━━━━━━━━━━━━━\u001b[0m\u001b[37m\u001b[0m \u001b[1m2s\u001b[0m 2ms/step - loss: 560003.0000 - mae: 741.0582 - mse: 560003.0000 - val_loss: 305862.1875 - val_mae: 551.2565 - val_mse: 305862.1875\n",
      "Epoch 2/36\n",
      "\u001b[1m485/485\u001b[0m \u001b[32m━━━━━━━━━━━━━━━━━━━━\u001b[0m\u001b[37m\u001b[0m \u001b[1m1s\u001b[0m 2ms/step - loss: 231541.2500 - mae: 472.4832 - mse: 231541.2500 - val_loss: 111123.3359 - val_mae: 330.3709 - val_mse: 111123.3359\n",
      "Epoch 3/36\n",
      "\u001b[1m485/485\u001b[0m \u001b[32m━━━━━━━━━━━━━━━━━━━━\u001b[0m\u001b[37m\u001b[0m \u001b[1m1s\u001b[0m 2ms/step - loss: 78432.5078 - mae: 266.2342 - mse: 78432.5078 - val_loss: 32696.6406 - val_mae: 175.2663 - val_mse: 32696.6406\n",
      "Epoch 4/36\n",
      "\u001b[1m485/485\u001b[0m \u001b[32m━━━━━━━━━━━━━━━━━━━━\u001b[0m\u001b[37m\u001b[0m \u001b[1m1s\u001b[0m 2ms/step - loss: 22132.2012 - mae: 127.5979 - mse: 22132.2012 - val_loss: 8857.5703 - val_mae: 82.9408 - val_mse: 8857.5703\n",
      "Epoch 5/36\n",
      "\u001b[1m485/485\u001b[0m \u001b[32m━━━━━━━━━━━━━━━━━━━━\u001b[0m\u001b[37m\u001b[0m \u001b[1m1s\u001b[0m 2ms/step - loss: 7668.0991 - mae: 70.3338 - mse: 7668.0991 - val_loss: 3574.3696 - val_mae: 42.0069 - val_mse: 3574.3696\n",
      "Epoch 6/36\n",
      "\u001b[1m485/485\u001b[0m \u001b[32m━━━━━━━━━━━━━━━━━━━━\u001b[0m\u001b[37m\u001b[0m \u001b[1m1s\u001b[0m 2ms/step - loss: 6271.2397 - mae: 63.4330 - mse: 6271.2397 - val_loss: 2673.7246 - val_mae: 37.7750 - val_mse: 2673.7246\n",
      "Epoch 7/36\n",
      "\u001b[1m485/485\u001b[0m \u001b[32m━━━━━━━━━━━━━━━━━━━━\u001b[0m\u001b[37m\u001b[0m \u001b[1m1s\u001b[0m 2ms/step - loss: 5722.2397 - mae: 61.0237 - mse: 5722.2397 - val_loss: 2393.7412 - val_mae: 37.5675 - val_mse: 2393.7412\n",
      "Epoch 8/36\n",
      "\u001b[1m485/485\u001b[0m \u001b[32m━━━━━━━━━━━━━━━━━━━━\u001b[0m\u001b[37m\u001b[0m \u001b[1m1s\u001b[0m 2ms/step - loss: 5622.9580 - mae: 60.9797 - mse: 5622.9580 - val_loss: 2366.1753 - val_mae: 37.5763 - val_mse: 2366.1753\n",
      "Epoch 9/36\n",
      "\u001b[1m485/485\u001b[0m \u001b[32m━━━━━━━━━━━━━━━━━━━━\u001b[0m\u001b[37m\u001b[0m \u001b[1m1s\u001b[0m 2ms/step - loss: 6082.9233 - mae: 62.9397 - mse: 6082.9233 - val_loss: 2465.0925 - val_mae: 37.5676 - val_mse: 2465.0925\n",
      "Epoch 10/36\n",
      "\u001b[1m485/485\u001b[0m \u001b[32m━━━━━━━━━━━━━━━━━━━━\u001b[0m\u001b[37m\u001b[0m \u001b[1m1s\u001b[0m 2ms/step - loss: 6291.3701 - mae: 63.0753 - mse: 6291.3701 - val_loss: 2402.1047 - val_mae: 37.5666 - val_mse: 2402.1047\n",
      "Epoch 11/36\n",
      "\u001b[1m485/485\u001b[0m \u001b[32m━━━━━━━━━━━━━━━━━━━━\u001b[0m\u001b[37m\u001b[0m \u001b[1m1s\u001b[0m 2ms/step - loss: 5938.0220 - mae: 63.0446 - mse: 5938.0220 - val_loss: 2274.9604 - val_mae: 37.6371 - val_mse: 2274.9604\n",
      "Epoch 12/36\n",
      "\u001b[1m485/485\u001b[0m \u001b[32m━━━━━━━━━━━━━━━━━━━━\u001b[0m\u001b[37m\u001b[0m \u001b[1m1s\u001b[0m 2ms/step - loss: 5647.4600 - mae: 62.2832 - mse: 5647.4600 - val_loss: 2251.2461 - val_mae: 37.6729 - val_mse: 2251.2461\n",
      "Epoch 13/36\n",
      "\u001b[1m485/485\u001b[0m \u001b[32m━━━━━━━━━━━━━━━━━━━━\u001b[0m\u001b[37m\u001b[0m \u001b[1m1s\u001b[0m 2ms/step - loss: 5485.8867 - mae: 60.3926 - mse: 5485.8867 - val_loss: 2439.4980 - val_mae: 37.5641 - val_mse: 2439.4980\n",
      "Epoch 14/36\n",
      "\u001b[1m485/485\u001b[0m \u001b[32m━━━━━━━━━━━━━━━━━━━━\u001b[0m\u001b[37m\u001b[0m \u001b[1m1s\u001b[0m 2ms/step - loss: 5866.9028 - mae: 62.5961 - mse: 5866.9028 - val_loss: 2292.8286 - val_mae: 37.6212 - val_mse: 2292.8286\n",
      "Epoch 15/36\n",
      "\u001b[1m485/485\u001b[0m \u001b[32m━━━━━━━━━━━━━━━━━━━━\u001b[0m\u001b[37m\u001b[0m \u001b[1m1s\u001b[0m 2ms/step - loss: 5745.6499 - mae: 61.9683 - mse: 5745.6499 - val_loss: 2505.5469 - val_mae: 37.5794 - val_mse: 2505.5469\n",
      "Epoch 16/36\n",
      "\u001b[1m485/485\u001b[0m \u001b[32m━━━━━━━━━━━━━━━━━━━━\u001b[0m\u001b[37m\u001b[0m \u001b[1m1s\u001b[0m 2ms/step - loss: 5188.0713 - mae: 58.6881 - mse: 5188.0713 - val_loss: 2146.3638 - val_mae: 37.8847 - val_mse: 2146.3638\n",
      "Epoch 17/36\n",
      "\u001b[1m485/485\u001b[0m \u001b[32m━━━━━━━━━━━━━━━━━━━━\u001b[0m\u001b[37m\u001b[0m \u001b[1m1s\u001b[0m 2ms/step - loss: 5546.6353 - mae: 60.2419 - mse: 5546.6353 - val_loss: 2326.7642 - val_mae: 37.5987 - val_mse: 2326.7642\n",
      "Epoch 18/36\n",
      "\u001b[1m485/485\u001b[0m \u001b[32m━━━━━━━━━━━━━━━━━━━━\u001b[0m\u001b[37m\u001b[0m \u001b[1m1s\u001b[0m 2ms/step - loss: 5788.5190 - mae: 62.5357 - mse: 5788.5190 - val_loss: 2627.7124 - val_mae: 37.7013 - val_mse: 2627.7124\n",
      "Epoch 19/36\n",
      "\u001b[1m485/485\u001b[0m \u001b[32m━━━━━━━━━━━━━━━━━━━━\u001b[0m\u001b[37m\u001b[0m \u001b[1m1s\u001b[0m 2ms/step - loss: 6374.5049 - mae: 65.8750 - mse: 6374.5049 - val_loss: 2226.4592 - val_mae: 37.7165 - val_mse: 2226.4592\n",
      "Epoch 20/36\n",
      "\u001b[1m485/485\u001b[0m \u001b[32m━━━━━━━━━━━━━━━━━━━━\u001b[0m\u001b[37m\u001b[0m \u001b[1m1s\u001b[0m 2ms/step - loss: 6075.2959 - mae: 64.0873 - mse: 6075.2959 - val_loss: 2708.7944 - val_mae: 37.8322 - val_mse: 2708.7944\n",
      "Epoch 21/36\n",
      "\u001b[1m485/485\u001b[0m \u001b[32m━━━━━━━━━━━━━━━━━━━━\u001b[0m\u001b[37m\u001b[0m \u001b[1m1s\u001b[0m 2ms/step - loss: 5320.6411 - mae: 59.4582 - mse: 5320.6411 - val_loss: 2322.7886 - val_mae: 37.6011 - val_mse: 2322.7886\n",
      "Epoch 22/36\n",
      "\u001b[1m485/485\u001b[0m \u001b[32m━━━━━━━━━━━━━━━━━━━━\u001b[0m\u001b[37m\u001b[0m \u001b[1m1s\u001b[0m 2ms/step - loss: 5308.7148 - mae: 58.1423 - mse: 5308.7148 - val_loss: 2591.6838 - val_mae: 37.6471 - val_mse: 2591.6838\n",
      "Epoch 23/36\n",
      "\u001b[1m485/485\u001b[0m \u001b[32m━━━━━━━━━━━━━━━━━━━━\u001b[0m\u001b[37m\u001b[0m \u001b[1m1s\u001b[0m 2ms/step - loss: 5728.1533 - mae: 62.1057 - mse: 5728.1533 - val_loss: 2180.7322 - val_mae: 37.8031 - val_mse: 2180.7322\n",
      "Epoch 24/36\n",
      "\u001b[1m485/485\u001b[0m \u001b[32m━━━━━━━━━━━━━━━━━━━━\u001b[0m\u001b[37m\u001b[0m \u001b[1m1s\u001b[0m 2ms/step - loss: 6052.8979 - mae: 64.5712 - mse: 6052.8979 - val_loss: 2452.6157 - val_mae: 37.5655 - val_mse: 2452.6157\n",
      "Epoch 25/36\n",
      "\u001b[1m485/485\u001b[0m \u001b[32m━━━━━━━━━━━━━━━━━━━━\u001b[0m\u001b[37m\u001b[0m \u001b[1m1s\u001b[0m 2ms/step - loss: 5734.0845 - mae: 61.2559 - mse: 5734.0845 - val_loss: 2459.8152 - val_mae: 37.5662 - val_mse: 2459.8152\n",
      "Epoch 26/36\n",
      "\u001b[1m485/485\u001b[0m \u001b[32m━━━━━━━━━━━━━━━━━━━━\u001b[0m\u001b[37m\u001b[0m \u001b[1m1s\u001b[0m 2ms/step - loss: 5666.9434 - mae: 60.8892 - mse: 5666.9434 - val_loss: 2402.6504 - val_mae: 37.5666 - val_mse: 2402.6504\n",
      "Epoch 27/36\n",
      "\u001b[1m485/485\u001b[0m \u001b[32m━━━━━━━━━━━━━━━━━━━━\u001b[0m\u001b[37m\u001b[0m \u001b[1m1s\u001b[0m 2ms/step - loss: 5767.7080 - mae: 62.5484 - mse: 5767.7080 - val_loss: 2206.2341 - val_mae: 37.7537 - val_mse: 2206.2341\n",
      "Epoch 28/36\n",
      "\u001b[1m485/485\u001b[0m \u001b[32m━━━━━━━━━━━━━━━━━━━━\u001b[0m\u001b[37m\u001b[0m \u001b[1m1s\u001b[0m 2ms/step - loss: 6126.8110 - mae: 63.8102 - mse: 6126.8110 - val_loss: 2481.8125 - val_mae: 37.5725 - val_mse: 2481.8125\n",
      "Epoch 29/36\n",
      "\u001b[1m485/485\u001b[0m \u001b[32m━━━━━━━━━━━━━━━━━━━━\u001b[0m\u001b[37m\u001b[0m \u001b[1m1s\u001b[0m 2ms/step - loss: 5507.4258 - mae: 59.2943 - mse: 5507.4258 - val_loss: 2264.0208 - val_mae: 37.6522 - val_mse: 2264.0208\n",
      "Epoch 30/36\n",
      "\u001b[1m485/485\u001b[0m \u001b[32m━━━━━━━━━━━━━━━━━━━━\u001b[0m\u001b[37m\u001b[0m \u001b[1m1s\u001b[0m 2ms/step - loss: 6212.4922 - mae: 65.3598 - mse: 6212.4922 - val_loss: 2426.2451 - val_mae: 37.5641 - val_mse: 2426.2451\n",
      "Epoch 31/36\n",
      "\u001b[1m485/485\u001b[0m \u001b[32m━━━━━━━━━━━━━━━━━━━━\u001b[0m\u001b[37m\u001b[0m \u001b[1m1s\u001b[0m 2ms/step - loss: 5512.6001 - mae: 60.3291 - mse: 5512.6001 - val_loss: 2407.2620 - val_mae: 37.5661 - val_mse: 2407.2620\n",
      "Epoch 32/36\n",
      "\u001b[1m485/485\u001b[0m \u001b[32m━━━━━━━━━━━━━━━━━━━━\u001b[0m\u001b[37m\u001b[0m \u001b[1m1s\u001b[0m 2ms/step - loss: 6004.2222 - mae: 63.3034 - mse: 6004.2222 - val_loss: 2296.9351 - val_mae: 37.6177 - val_mse: 2296.9351\n",
      "Epoch 33/36\n",
      "\u001b[1m485/485\u001b[0m \u001b[32m━━━━━━━━━━━━━━━━━━━━\u001b[0m\u001b[37m\u001b[0m \u001b[1m1s\u001b[0m 2ms/step - loss: 6185.3623 - mae: 64.6721 - mse: 6185.3623 - val_loss: 2206.7117 - val_mae: 37.7528 - val_mse: 2206.7117\n",
      "Epoch 34/36\n",
      "\u001b[1m485/485\u001b[0m \u001b[32m━━━━━━━━━━━━━━━━━━━━\u001b[0m\u001b[37m\u001b[0m \u001b[1m1s\u001b[0m 2ms/step - loss: 5425.0991 - mae: 60.2653 - mse: 5425.0991 - val_loss: 2518.6462 - val_mae: 37.5839 - val_mse: 2518.6462\n",
      "Epoch 35/36\n",
      "\u001b[1m485/485\u001b[0m \u001b[32m━━━━━━━━━━━━━━━━━━━━\u001b[0m\u001b[37m\u001b[0m \u001b[1m1s\u001b[0m 2ms/step - loss: 5792.6084 - mae: 62.6870 - mse: 5792.6084 - val_loss: 2600.7134 - val_mae: 37.6600 - val_mse: 2600.7134\n",
      "Epoch 36/36\n",
      "\u001b[1m485/485\u001b[0m \u001b[32m━━━━━━━━━━━━━━━━━━━━\u001b[0m\u001b[37m\u001b[0m \u001b[1m1s\u001b[0m 2ms/step - loss: 6284.6982 - mae: 64.5004 - mse: 6284.6982 - val_loss: 2437.5190 - val_mae: 37.5639 - val_mse: 2437.5190\n"
     ]
    }
   ],
   "source": [
    "rnn = modelo_recurrente.fit(x_train_rnn, y_train,\n",
    "                    validation_data=(x_test_rnn,y_test),\n",
    "                    batch_size=1, epochs=36,verbose=1,callbacks=[tensorboard_callback])"
   ]
  },
  {
   "cell_type": "code",
   "execution_count": 98,
   "metadata": {},
   "outputs": [],
   "source": [
    "tag=\"mlp\"+datetime.now().strftime(\"%Y%m%d-%H%M%S\")\n",
    "log_dir = \"logs/fit/\" + tag\n",
    "tensorboard_callback = tf.keras.callbacks.TensorBoard(log_dir=log_dir, histogram_freq=1)\n",
    "optimizer=Adam(learning_rate=1e-3)"
   ]
  },
  {
   "cell_type": "code",
   "execution_count": 99,
   "metadata": {},
   "outputs": [
    {
     "data": {
      "text/html": [
       "<pre style=\"white-space:pre;overflow-x:auto;line-height:normal;font-family:Menlo,'DejaVu Sans Mono',consolas,'Courier New',monospace\"><span style=\"font-weight: bold\">Model: \"sequential_5\"</span>\n",
       "</pre>\n"
      ],
      "text/plain": [
       "\u001b[1mModel: \"sequential_5\"\u001b[0m\n"
      ]
     },
     "metadata": {},
     "output_type": "display_data"
    },
    {
     "data": {
      "text/html": [
       "<pre style=\"white-space:pre;overflow-x:auto;line-height:normal;font-family:Menlo,'DejaVu Sans Mono',consolas,'Courier New',monospace\">┏━━━━━━━━━━━━━━━━━━━━━━━━━━━━━━━━━┳━━━━━━━━━━━━━━━━━━━━━━━━┳━━━━━━━━━━━━━━━┓\n",
       "┃<span style=\"font-weight: bold\"> Layer (type)                    </span>┃<span style=\"font-weight: bold\"> Output Shape           </span>┃<span style=\"font-weight: bold\">       Param # </span>┃\n",
       "┡━━━━━━━━━━━━━━━━━━━━━━━━━━━━━━━━━╇━━━━━━━━━━━━━━━━━━━━━━━━╇━━━━━━━━━━━━━━━┩\n",
       "│ dense_7 (<span style=\"color: #0087ff; text-decoration-color: #0087ff\">Dense</span>)                 │ (<span style=\"color: #00d7ff; text-decoration-color: #00d7ff\">None</span>, <span style=\"color: #00af00; text-decoration-color: #00af00\">64</span>)             │         <span style=\"color: #00af00; text-decoration-color: #00af00\">1,024</span> │\n",
       "├─────────────────────────────────┼────────────────────────┼───────────────┤\n",
       "│ dense_8 (<span style=\"color: #0087ff; text-decoration-color: #0087ff\">Dense</span>)                 │ (<span style=\"color: #00d7ff; text-decoration-color: #00d7ff\">None</span>, <span style=\"color: #00af00; text-decoration-color: #00af00\">1</span>)              │            <span style=\"color: #00af00; text-decoration-color: #00af00\">65</span> │\n",
       "└─────────────────────────────────┴────────────────────────┴───────────────┘\n",
       "</pre>\n"
      ],
      "text/plain": [
       "┏━━━━━━━━━━━━━━━━━━━━━━━━━━━━━━━━━┳━━━━━━━━━━━━━━━━━━━━━━━━┳━━━━━━━━━━━━━━━┓\n",
       "┃\u001b[1m \u001b[0m\u001b[1mLayer (type)                   \u001b[0m\u001b[1m \u001b[0m┃\u001b[1m \u001b[0m\u001b[1mOutput Shape          \u001b[0m\u001b[1m \u001b[0m┃\u001b[1m \u001b[0m\u001b[1m      Param #\u001b[0m\u001b[1m \u001b[0m┃\n",
       "┡━━━━━━━━━━━━━━━━━━━━━━━━━━━━━━━━━╇━━━━━━━━━━━━━━━━━━━━━━━━╇━━━━━━━━━━━━━━━┩\n",
       "│ dense_7 (\u001b[38;5;33mDense\u001b[0m)                 │ (\u001b[38;5;45mNone\u001b[0m, \u001b[38;5;34m64\u001b[0m)             │         \u001b[38;5;34m1,024\u001b[0m │\n",
       "├─────────────────────────────────┼────────────────────────┼───────────────┤\n",
       "│ dense_8 (\u001b[38;5;33mDense\u001b[0m)                 │ (\u001b[38;5;45mNone\u001b[0m, \u001b[38;5;34m1\u001b[0m)              │            \u001b[38;5;34m65\u001b[0m │\n",
       "└─────────────────────────────────┴────────────────────────┴───────────────┘\n"
      ]
     },
     "metadata": {},
     "output_type": "display_data"
    },
    {
     "data": {
      "text/html": [
       "<pre style=\"white-space:pre;overflow-x:auto;line-height:normal;font-family:Menlo,'DejaVu Sans Mono',consolas,'Courier New',monospace\"><span style=\"font-weight: bold\"> Total params: </span><span style=\"color: #00af00; text-decoration-color: #00af00\">1,089</span> (4.25 KB)\n",
       "</pre>\n"
      ],
      "text/plain": [
       "\u001b[1m Total params: \u001b[0m\u001b[38;5;34m1,089\u001b[0m (4.25 KB)\n"
      ]
     },
     "metadata": {},
     "output_type": "display_data"
    },
    {
     "data": {
      "text/html": [
       "<pre style=\"white-space:pre;overflow-x:auto;line-height:normal;font-family:Menlo,'DejaVu Sans Mono',consolas,'Courier New',monospace\"><span style=\"font-weight: bold\"> Trainable params: </span><span style=\"color: #00af00; text-decoration-color: #00af00\">1,089</span> (4.25 KB)\n",
       "</pre>\n"
      ],
      "text/plain": [
       "\u001b[1m Trainable params: \u001b[0m\u001b[38;5;34m1,089\u001b[0m (4.25 KB)\n"
      ]
     },
     "metadata": {},
     "output_type": "display_data"
    },
    {
     "data": {
      "text/html": [
       "<pre style=\"white-space:pre;overflow-x:auto;line-height:normal;font-family:Menlo,'DejaVu Sans Mono',consolas,'Courier New',monospace\"><span style=\"font-weight: bold\"> Non-trainable params: </span><span style=\"color: #00af00; text-decoration-color: #00af00\">0</span> (0.00 B)\n",
       "</pre>\n"
      ],
      "text/plain": [
       "\u001b[1m Non-trainable params: \u001b[0m\u001b[38;5;34m0\u001b[0m (0.00 B)\n"
      ]
     },
     "metadata": {},
     "output_type": "display_data"
    }
   ],
   "source": [
    "modelo=Sequential()\n",
    "modelo.add(Input(name=\"serie\",shape=(15,)))\n",
    "modelo.add(Dense(64))\n",
    "modelo.add(Dense(1,activation=\"linear\"))\n",
    "modelo.summary()"
   ]
  },
  {
   "cell_type": "code",
   "execution_count": 100,
   "metadata": {},
   "outputs": [],
   "source": [
    "modelo.compile(optimizer=optimizer, loss='mse', metrics=['mse','mae'])"
   ]
  },
  {
   "cell_type": "code",
   "execution_count": 102,
   "metadata": {},
   "outputs": [
    {
     "name": "stdout",
     "output_type": "stream",
     "text": [
      "Epoch 1/36\n",
      "\u001b[1m485/485\u001b[0m \u001b[32m━━━━━━━━━━━━━━━━━━━━\u001b[0m\u001b[37m\u001b[0m \u001b[1m1s\u001b[0m 1ms/step - loss: 323.5016 - mae: 13.9956 - mse: 323.5016 - val_loss: 208.6840 - val_mae: 12.4281 - val_mse: 208.6840\n",
      "Epoch 2/36\n",
      "\u001b[1m485/485\u001b[0m \u001b[32m━━━━━━━━━━━━━━━━━━━━\u001b[0m\u001b[37m\u001b[0m \u001b[1m1s\u001b[0m 1ms/step - loss: 260.0609 - mae: 12.9088 - mse: 260.0609 - val_loss: 83.9902 - val_mae: 7.3082 - val_mse: 83.9902\n",
      "Epoch 3/36\n",
      "\u001b[1m485/485\u001b[0m \u001b[32m━━━━━━━━━━━━━━━━━━━━\u001b[0m\u001b[37m\u001b[0m \u001b[1m1s\u001b[0m 1ms/step - loss: 286.1068 - mae: 13.5605 - mse: 286.1068 - val_loss: 982.5459 - val_mae: 30.1280 - val_mse: 982.5459\n",
      "Epoch 4/36\n",
      "\u001b[1m485/485\u001b[0m \u001b[32m━━━━━━━━━━━━━━━━━━━━\u001b[0m\u001b[37m\u001b[0m \u001b[1m1s\u001b[0m 1ms/step - loss: 259.0547 - mae: 12.4371 - mse: 259.0547 - val_loss: 69.2814 - val_mae: 6.7578 - val_mse: 69.2814\n",
      "Epoch 5/36\n",
      "\u001b[1m485/485\u001b[0m \u001b[32m━━━━━━━━━━━━━━━━━━━━\u001b[0m\u001b[37m\u001b[0m \u001b[1m1s\u001b[0m 1ms/step - loss: 247.0750 - mae: 12.2599 - mse: 247.0750 - val_loss: 613.4856 - val_mae: 23.3617 - val_mse: 613.4856\n",
      "Epoch 6/36\n",
      "\u001b[1m485/485\u001b[0m \u001b[32m━━━━━━━━━━━━━━━━━━━━\u001b[0m\u001b[37m\u001b[0m \u001b[1m1s\u001b[0m 1ms/step - loss: 288.1693 - mae: 13.7450 - mse: 288.1693 - val_loss: 132.3224 - val_mae: 9.4995 - val_mse: 132.3224\n",
      "Epoch 7/36\n",
      "\u001b[1m485/485\u001b[0m \u001b[32m━━━━━━━━━━━━━━━━━━━━\u001b[0m\u001b[37m\u001b[0m \u001b[1m1s\u001b[0m 1ms/step - loss: 351.6964 - mae: 13.7481 - mse: 351.6964 - val_loss: 247.7339 - val_mae: 13.6520 - val_mse: 247.7339\n",
      "Epoch 8/36\n",
      "\u001b[1m485/485\u001b[0m \u001b[32m━━━━━━━━━━━━━━━━━━━━\u001b[0m\u001b[37m\u001b[0m \u001b[1m1s\u001b[0m 1ms/step - loss: 258.7919 - mae: 12.1100 - mse: 258.7919 - val_loss: 81.0485 - val_mae: 7.3092 - val_mse: 81.0485\n",
      "Epoch 9/36\n",
      "\u001b[1m485/485\u001b[0m \u001b[32m━━━━━━━━━━━━━━━━━━━━\u001b[0m\u001b[37m\u001b[0m \u001b[1m1s\u001b[0m 1ms/step - loss: 354.0268 - mae: 14.5891 - mse: 354.0268 - val_loss: 190.5221 - val_mae: 11.8320 - val_mse: 190.5221\n",
      "Epoch 10/36\n",
      "\u001b[1m485/485\u001b[0m \u001b[32m━━━━━━━━━━━━━━━━━━━━\u001b[0m\u001b[37m\u001b[0m \u001b[1m1s\u001b[0m 1ms/step - loss: 291.2506 - mae: 13.8630 - mse: 291.2506 - val_loss: 90.6382 - val_mae: 7.7181 - val_mse: 90.6382\n",
      "Epoch 11/36\n",
      "\u001b[1m485/485\u001b[0m \u001b[32m━━━━━━━━━━━━━━━━━━━━\u001b[0m\u001b[37m\u001b[0m \u001b[1m1s\u001b[0m 1ms/step - loss: 214.8106 - mae: 11.6133 - mse: 214.8106 - val_loss: 248.6008 - val_mae: 13.7153 - val_mse: 248.6008\n",
      "Epoch 12/36\n",
      "\u001b[1m485/485\u001b[0m \u001b[32m━━━━━━━━━━━━━━━━━━━━\u001b[0m\u001b[37m\u001b[0m \u001b[1m1s\u001b[0m 1ms/step - loss: 186.9696 - mae: 10.7244 - mse: 186.9696 - val_loss: 268.4086 - val_mae: 14.4939 - val_mse: 268.4086\n",
      "Epoch 13/36\n",
      "\u001b[1m485/485\u001b[0m \u001b[32m━━━━━━━━━━━━━━━━━━━━\u001b[0m\u001b[37m\u001b[0m \u001b[1m1s\u001b[0m 1ms/step - loss: 263.7877 - mae: 12.2940 - mse: 263.7877 - val_loss: 348.1431 - val_mae: 16.9137 - val_mse: 348.1431\n",
      "Epoch 14/36\n",
      "\u001b[1m485/485\u001b[0m \u001b[32m━━━━━━━━━━━━━━━━━━━━\u001b[0m\u001b[37m\u001b[0m \u001b[1m1s\u001b[0m 1ms/step - loss: 309.1408 - mae: 13.4597 - mse: 309.1408 - val_loss: 238.9374 - val_mae: 13.5042 - val_mse: 238.9374\n",
      "Epoch 15/36\n",
      "\u001b[1m485/485\u001b[0m \u001b[32m━━━━━━━━━━━━━━━━━━━━\u001b[0m\u001b[37m\u001b[0m \u001b[1m1s\u001b[0m 1ms/step - loss: 259.3159 - mae: 12.2422 - mse: 259.3159 - val_loss: 175.2499 - val_mae: 11.2115 - val_mse: 175.2499\n",
      "Epoch 16/36\n",
      "\u001b[1m485/485\u001b[0m \u001b[32m━━━━━━━━━━━━━━━━━━━━\u001b[0m\u001b[37m\u001b[0m \u001b[1m1s\u001b[0m 1ms/step - loss: 212.4752 - mae: 11.5225 - mse: 212.4752 - val_loss: 442.2317 - val_mae: 19.4610 - val_mse: 442.2317\n",
      "Epoch 17/36\n",
      "\u001b[1m485/485\u001b[0m \u001b[32m━━━━━━━━━━━━━━━━━━━━\u001b[0m\u001b[37m\u001b[0m \u001b[1m1s\u001b[0m 1ms/step - loss: 299.4508 - mae: 13.5387 - mse: 299.4508 - val_loss: 728.3137 - val_mae: 25.7031 - val_mse: 728.3137\n",
      "Epoch 18/36\n",
      "\u001b[1m485/485\u001b[0m \u001b[32m━━━━━━━━━━━━━━━━━━━━\u001b[0m\u001b[37m\u001b[0m \u001b[1m1s\u001b[0m 1ms/step - loss: 265.6698 - mae: 12.6771 - mse: 265.6698 - val_loss: 70.1106 - val_mae: 6.6844 - val_mse: 70.1106\n",
      "Epoch 19/36\n",
      "\u001b[1m485/485\u001b[0m \u001b[32m━━━━━━━━━━━━━━━━━━━━\u001b[0m\u001b[37m\u001b[0m \u001b[1m1s\u001b[0m 1ms/step - loss: 237.5290 - mae: 12.1215 - mse: 237.5290 - val_loss: 162.1534 - val_mae: 10.6439 - val_mse: 162.1534\n",
      "Epoch 20/36\n",
      "\u001b[1m485/485\u001b[0m \u001b[32m━━━━━━━━━━━━━━━━━━━━\u001b[0m\u001b[37m\u001b[0m \u001b[1m1s\u001b[0m 1ms/step - loss: 238.9349 - mae: 12.1508 - mse: 238.9349 - val_loss: 70.8638 - val_mae: 6.7280 - val_mse: 70.8638\n",
      "Epoch 21/36\n",
      "\u001b[1m485/485\u001b[0m \u001b[32m━━━━━━━━━━━━━━━━━━━━\u001b[0m\u001b[37m\u001b[0m \u001b[1m1s\u001b[0m 1ms/step - loss: 186.3745 - mae: 10.2492 - mse: 186.3745 - val_loss: 64.4084 - val_mae: 6.4510 - val_mse: 64.4084\n",
      "Epoch 22/36\n",
      "\u001b[1m485/485\u001b[0m \u001b[32m━━━━━━━━━━━━━━━━━━━━\u001b[0m\u001b[37m\u001b[0m \u001b[1m1s\u001b[0m 1ms/step - loss: 150.2244 - mae: 9.2319 - mse: 150.2244 - val_loss: 71.0091 - val_mae: 6.8365 - val_mse: 71.0091\n",
      "Epoch 23/36\n",
      "\u001b[1m485/485\u001b[0m \u001b[32m━━━━━━━━━━━━━━━━━━━━\u001b[0m\u001b[37m\u001b[0m \u001b[1m1s\u001b[0m 1ms/step - loss: 216.8989 - mae: 11.5449 - mse: 216.8989 - val_loss: 71.6437 - val_mae: 6.7733 - val_mse: 71.6437\n",
      "Epoch 24/36\n",
      "\u001b[1m485/485\u001b[0m \u001b[32m━━━━━━━━━━━━━━━━━━━━\u001b[0m\u001b[37m\u001b[0m \u001b[1m1s\u001b[0m 1ms/step - loss: 255.6356 - mae: 12.3045 - mse: 255.6356 - val_loss: 271.1494 - val_mae: 14.6664 - val_mse: 271.1494\n",
      "Epoch 25/36\n",
      "\u001b[1m485/485\u001b[0m \u001b[32m━━━━━━━━━━━━━━━━━━━━\u001b[0m\u001b[37m\u001b[0m \u001b[1m1s\u001b[0m 1ms/step - loss: 207.1288 - mae: 10.9228 - mse: 207.1288 - val_loss: 65.5929 - val_mae: 6.5247 - val_mse: 65.5929\n",
      "Epoch 26/36\n",
      "\u001b[1m485/485\u001b[0m \u001b[32m━━━━━━━━━━━━━━━━━━━━\u001b[0m\u001b[37m\u001b[0m \u001b[1m1s\u001b[0m 1ms/step - loss: 226.6506 - mae: 11.6067 - mse: 226.6506 - val_loss: 72.5918 - val_mae: 6.9230 - val_mse: 72.5918\n",
      "Epoch 27/36\n",
      "\u001b[1m485/485\u001b[0m \u001b[32m━━━━━━━━━━━━━━━━━━━━\u001b[0m\u001b[37m\u001b[0m \u001b[1m1s\u001b[0m 1ms/step - loss: 192.5617 - mae: 10.9081 - mse: 192.5617 - val_loss: 69.6936 - val_mae: 6.7735 - val_mse: 69.6936\n",
      "Epoch 28/36\n",
      "\u001b[1m485/485\u001b[0m \u001b[32m━━━━━━━━━━━━━━━━━━━━\u001b[0m\u001b[37m\u001b[0m \u001b[1m1s\u001b[0m 1ms/step - loss: 204.9874 - mae: 11.1198 - mse: 204.9874 - val_loss: 73.2174 - val_mae: 6.9413 - val_mse: 73.2174\n",
      "Epoch 29/36\n",
      "\u001b[1m485/485\u001b[0m \u001b[32m━━━━━━━━━━━━━━━━━━━━\u001b[0m\u001b[37m\u001b[0m \u001b[1m1s\u001b[0m 1ms/step - loss: 239.0590 - mae: 12.4435 - mse: 239.0590 - val_loss: 196.3416 - val_mae: 12.0548 - val_mse: 196.3416\n",
      "Epoch 30/36\n",
      "\u001b[1m485/485\u001b[0m \u001b[32m━━━━━━━━━━━━━━━━━━━━\u001b[0m\u001b[37m\u001b[0m \u001b[1m1s\u001b[0m 1ms/step - loss: 246.0040 - mae: 12.5897 - mse: 246.0040 - val_loss: 138.3003 - val_mae: 9.8218 - val_mse: 138.3003\n",
      "Epoch 31/36\n",
      "\u001b[1m485/485\u001b[0m \u001b[32m━━━━━━━━━━━━━━━━━━━━\u001b[0m\u001b[37m\u001b[0m \u001b[1m1s\u001b[0m 1ms/step - loss: 221.5199 - mae: 11.0292 - mse: 221.5199 - val_loss: 182.5958 - val_mae: 11.5688 - val_mse: 182.5958\n",
      "Epoch 32/36\n",
      "\u001b[1m485/485\u001b[0m \u001b[32m━━━━━━━━━━━━━━━━━━━━\u001b[0m\u001b[37m\u001b[0m \u001b[1m1s\u001b[0m 1ms/step - loss: 201.0755 - mae: 11.0881 - mse: 201.0755 - val_loss: 408.7778 - val_mae: 18.5507 - val_mse: 408.7778\n",
      "Epoch 33/36\n",
      "\u001b[1m485/485\u001b[0m \u001b[32m━━━━━━━━━━━━━━━━━━━━\u001b[0m\u001b[37m\u001b[0m \u001b[1m1s\u001b[0m 1ms/step - loss: 272.0197 - mae: 12.3444 - mse: 272.0197 - val_loss: 147.1033 - val_mae: 10.1286 - val_mse: 147.1033\n",
      "Epoch 34/36\n",
      "\u001b[1m485/485\u001b[0m \u001b[32m━━━━━━━━━━━━━━━━━━━━\u001b[0m\u001b[37m\u001b[0m \u001b[1m1s\u001b[0m 1ms/step - loss: 193.7685 - mae: 10.7187 - mse: 193.7685 - val_loss: 398.1272 - val_mae: 18.3211 - val_mse: 398.1272\n",
      "Epoch 35/36\n",
      "\u001b[1m485/485\u001b[0m \u001b[32m━━━━━━━━━━━━━━━━━━━━\u001b[0m\u001b[37m\u001b[0m \u001b[1m1s\u001b[0m 1ms/step - loss: 211.6128 - mae: 11.5423 - mse: 211.6128 - val_loss: 96.3731 - val_mae: 8.0181 - val_mse: 96.3731\n",
      "Epoch 36/36\n",
      "\u001b[1m485/485\u001b[0m \u001b[32m━━━━━━━━━━━━━━━━━━━━\u001b[0m\u001b[37m\u001b[0m \u001b[1m1s\u001b[0m 1ms/step - loss: 202.6491 - mae: 10.6789 - mse: 202.6491 - val_loss: 80.6627 - val_mae: 7.1064 - val_mse: 80.6627\n"
     ]
    }
   ],
   "source": [
    "mlp = modelo.fit(x_train_rnn, y_train,\n",
    "                    validation_data=(x_test_rnn,y_test),\n",
    "                    batch_size=1, epochs=36,verbose=1,callbacks=[tensorboard_callback])"
   ]
  },
  {
   "cell_type": "code",
   "execution_count": 104,
   "metadata": {},
   "outputs": [],
   "source": [
    "modelo.save(\"mlp.keras\")"
   ]
  },
  {
   "cell_type": "code",
   "execution_count": 105,
   "metadata": {},
   "outputs": [],
   "source": [
    "modelo_recurrente.save(\"rnn.keras\")"
   ]
  }
 ],
 "metadata": {
  "kernelspec": {
   "display_name": "Python 3",
   "language": "python",
   "name": "python3"
  },
  "language_info": {
   "codemirror_mode": {
    "name": "ipython",
    "version": 3
   },
   "file_extension": ".py",
   "mimetype": "text/x-python",
   "name": "python",
   "nbconvert_exporter": "python",
   "pygments_lexer": "ipython3",
   "version": "3.11.9"
  }
 },
 "nbformat": 4,
 "nbformat_minor": 2
}
